{
 "cells": [
  {
   "cell_type": "markdown",
   "metadata": {},
   "source": [
    "# SUMO Script for Gathering Traffic Data\n",
    "- In order to run this, ensure you have SUMO download and configured properly. You will also need XQuartz running in order for the SUMO gui to run"
   ]
  },
  {
   "cell_type": "code",
   "execution_count": 1,
   "metadata": {},
   "outputs": [],
   "source": [
    "import numpy as np\n",
    "import os\n",
    "import sys\n",
    "import traci\n",
    "\n",
    "# Ensure SUMO is installed and setup correctly.\n",
    "if 'SUMO_HOME' in os.environ:\n",
    "    tools = os.path.join(os.environ['SUMO_HOME'], 'tools')\n",
    "    sys.path.append(tools)\n"
   ]
  },
  {
   "cell_type": "code",
   "execution_count": 22,
   "metadata": {},
   "outputs": [
    {
     "name": "stdout",
     "output_type": "stream",
     "text": [
      " Retrying in 1 seconds\n",
      "- Departure time for vehicle: 11.0\n",
      "- Arrival time for vehicle: 107.0\n",
      "- Total time waiting at red lights:  26.0\n",
      "- Time loss:  73.22865297059192\n",
      "- Total travel time for vehicle: 96.0\n"
     ]
    }
   ],
   "source": [
    "# Command to run the simulation with the given config file and save the tripinfo to tripinfo.xml\n",
    "# NOTE: --scale scales up the traffic in the simulation. 100.0 means 100x the traffic.\n",
    "traci.start(['sumo-gui', '-c', '../sumo_files/config.sumo.cfg', '--tripinfo-output', '../sumo_files/tripinfo.xml', '--start', '--quit-on-end', '--scale', '1'])\n",
    "\n",
    "# Vehicle ID to track\n",
    "vehicle_id = \"10\"\n",
    "\n",
    "# Variables to store departure and arrival times\n",
    "departure_time = 0\n",
    "arrival_time = 0\n",
    "time_loss = 0\n",
    "waiting_time_at_red_lights = {}\n",
    "\n",
    "# Start simulation explicitly\n",
    "traci.simulationStep()\n",
    "\n",
    "# Run the simulation for 1000 steps\n",
    "step = 0\n",
    "i = 0\n",
    "while step < 500:\n",
    "    # Run the simulation\n",
    "    traci.simulationStep()\n",
    "    \n",
    "    # Check if the vehicle is on the road\n",
    "    if vehicle_id in traci.vehicle.getIDList():\n",
    "        # Record departure time if not done already\n",
    "        if departure_time == 0:\n",
    "            departure_time = traci.simulation.getTime()\n",
    "        \n",
    "        # Track the waiting time at red lights. If the waiting time is 0, the vehicle is not moving\n",
    "        # If the waiting time is greater than 0, the vehicle is waiting at a red light. Need to track time to get the max value.\n",
    "        if traci.vehicle.getWaitingTime(vehicle_id) == 0:\n",
    "            i += 1\n",
    "        elif traci.vehicle.getWaitingTime(vehicle_id) > 0:\n",
    "            if i not in waiting_time_at_red_lights:\n",
    "                waiting_time_at_red_lights[i] = []\n",
    "            waiting_time_at_red_lights[i].append(traci.vehicle  .getWaitingTime(vehicle_id))\n",
    "            \n",
    "        # For some reason, the road ID here is the Junction ID where the vehicle ends at. Really weird.\n",
    "        # It's defined in the network file and includes the specific edge it's suppose to end on.\n",
    "        if traci.vehicle.getRoadID(vehicle_id) == \":202799427_4\":\n",
    "            arrival_time = traci.simulation.getTime()\n",
    "            time_loss = traci.vehicle.getTimeLoss(vehicle_id)\n",
    "\n",
    "    step += 1\n",
    "\n",
    "# In the dict, get the max value in the [] for each key and add to get the total waiting time.\n",
    "total_red_light_waiting_time = 0\n",
    "for key in waiting_time_at_red_lights:\n",
    "    total_red_light_waiting_time += max(waiting_time_at_red_lights[key])\n",
    "\n",
    "# Calculate total travel time\n",
    "total_travel_time = arrival_time - departure_time\n",
    "\n",
    "print(\"- Departure time for vehicle:\", departure_time)\n",
    "print(\"- Arrival time for vehicle:\", arrival_time)\n",
    "print(\"- Total time waiting at red lights: \", total_red_light_waiting_time)\n",
    "print(\"- Time loss: \", time_loss)\n",
    "print(\"- Total travel time for vehicle:\", total_travel_time)\n",
    "\n",
    "traci.close()"
   ]
  }
 ],
 "metadata": {
  "kernelspec": {
   "display_name": "venv",
   "language": "python",
   "name": "python3"
  },
  "language_info": {
   "codemirror_mode": {
    "name": "ipython",
    "version": 3
   },
   "file_extension": ".py",
   "mimetype": "text/x-python",
   "name": "python",
   "nbconvert_exporter": "python",
   "pygments_lexer": "ipython3",
   "version": "3.11.5"
  }
 },
 "nbformat": 4,
 "nbformat_minor": 2
}
